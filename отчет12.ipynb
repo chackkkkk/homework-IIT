{
  "nbformat": 4,
  "nbformat_minor": 0,
  "metadata": {
    "colab": {
      "provenance": []
    },
    "kernelspec": {
      "name": "python3",
      "display_name": "Python 3"
    },
    "language_info": {
      "name": "python"
    }
  },
  "cells": [
    {
      "cell_type": "markdown",
      "source": [
        "# Титульный лист\n",
        "<a name = 'Титульный_лист'>"
      ],
      "metadata": {
        "id": "wZYzhWVcFrqD"
      }
    },
    {
      "cell_type": "markdown",
      "source": [
        "<font face=\"times new roman\" size=\"3\" color=\"black\">\n",
        "<center> МИНИСТЕРСТВО ЦИФРОВОГО РАЗВИТИЯ, СВЯЗИ И МАССОВЫХ КОММУНИКАЦИЙ РОССИЙСКОЙ ФЕДЕРАЦИИ </center>\n",
        "<center>Ордена Трудового Красного Знамени федеральное государственное бюджетное образовательное учреждение высшего образования </center>\n",
        "<center> <strong> «Московский технический университет связи и информатики» </strong> </center>\n",
        "\n",
        "  <hr>\n",
        "<center> Кафедра «Телевидения и звукового вещания им. С.И. Катаева (ТиЗВ)» </center>\n",
        "<br>\n",
        "<center> <font face=\"times new roman\" size=\"3\" color=\"black\"> Отчет по лабораторной работе № </center>\n",
        "<center>по дисциплине </center>\n",
        "<center><b>«Информационные технологии и программирование»</b></center>\n",
        "<center>на тему</center>\n",
        "<center><b>«Приложение линейной структуры»</b> </center>\n",
        "\n",
        "</font>\n",
        "\n",
        "  <br><br><br><br><br>\n",
        "  <p  align=\"right\"> <font face=\"times new roman\" size=\"3\" color=\"black\"> Выполнил: студент группы </p>\n",
        "  <p  align=\"right\"> <font face=\"times new roman\" size=\"3\" color=\"black\">       БИК*** </p>\n",
        "  <p  align=\"right\"> <font face=\"times new roman\" size=\"3\" color=\"black\"> Фамилия Имя Отчество</p>\n",
        "  <p  align=\"right\"> <font face=\"times new roman\" size=\"3\" color=\"black\"> Проверил:</p>\n",
        "  <p  align=\"right\"> <font face=\"times new roman\" size=\"3\" color=\"black\"> Ассистент кафедры ТиЗВ Кудряшов Всеволод Владимирович </p>\n",
        "  <br>\n",
        "  <br>\n",
        "\n",
        "  <p  align=\"center\"> <font face=\"times new roman\" size=\"2\" color=\"black\"> Москва, 2023 г. </p>\n",
        "\n",
        "  <hr>"
      ],
      "metadata": {
        "id": "1MEmvdDVLb_o"
      }
    },
    {
      "cell_type": "markdown",
      "source": [
        "\n",
        "\n",
        "> ## Содержание\n",
        "\n"
      ],
      "metadata": {
        "id": "69zGkjv5LF6H"
      }
    },
    {
      "cell_type": "code",
      "source": [],
      "metadata": {
        "id": "sRLAt_nx9gCO"
      },
      "execution_count": null,
      "outputs": []
    },
    {
      "cell_type": "markdown",
      "source": [
        "[1. Титульный лист](#Титульный_лист)\n",
        "\n",
        "<a href = '#Постановка_задач'>2. Постановка задач </a>"
      ],
      "metadata": {
        "id": "or6B6iT3WHBf"
      }
    },
    {
      "cell_type": "markdown",
      "source": [
        "# Постановка задач\n",
        "<a name = 'Постановка_задач'>"
      ],
      "metadata": {
        "id": "5clBoL9zKHvQ"
      }
    },
    {
      "cell_type": "markdown",
      "source": [
        "> ## Задание\n",
        "hh\n",
        "\n",
        "\n",
        "\n"
      ],
      "metadata": {
        "id": "wi2ErtXsKx8A"
      }
    },
    {
      "cell_type": "markdown",
      "source": [
        "##Цель работы\n",
        "\n",
        "\n"
      ],
      "metadata": {
        "id": "Rp2I9t3bK5Pb"
      }
    },
    {
      "cell_type": "code",
      "source": [],
      "metadata": {
        "id": "Z9zwEH7kMpYp"
      },
      "execution_count": null,
      "outputs": []
    },
    {
      "cell_type": "markdown",
      "source": [
        "##Задачи работы\n",
        "\n",
        "1. Задача 1\n",
        "1. Задача 2\n",
        "1. Задача 3"
      ],
      "metadata": {
        "id": "hvFcgeKZLvvA"
      }
    },
    {
      "cell_type": "markdown",
      "source": [
        "## Расчет входных данных"
      ],
      "metadata": {
        "id": "UMusk14HMN9w"
      }
    },
    {
      "cell_type": "markdown",
      "source": [
        "# Ход работы"
      ],
      "metadata": {
        "id": "z3YpbGx3KMlA"
      }
    },
    {
      "cell_type": "markdown",
      "source": [
        "1. Решение задачи 1, для которого нужно указать какое значение будет передано какой переменной\n",
        "\n",
        "a | b | c\n",
        "--|---|--\n",
        "11| 12| 13\n",
        "\n",
        "Реализация присвоения выполнена ниже:"
      ],
      "metadata": {
        "id": "KamLUUsRNECa"
      }
    },
    {
      "cell_type": "code",
      "source": [
        "a = 11\n",
        "b = 12\n",
        "c = 13"
      ],
      "metadata": {
        "id": "ZDsux1mzNNjw"
      },
      "execution_count": null,
      "outputs": []
    },
    {
      "cell_type": "markdown",
      "source": [
        "2. Решение задачи 2, для которой требуется применить формулу $(1)$\n",
        "\n",
        "$d = a + b + c\\ (1)$\n",
        "$$d = a + b + c\\ (1)$$\n",
        "\n",
        "Реализация расчета данных по формуле выполнена ниже:"
      ],
      "metadata": {
        "id": "QXJxuM9cNUtP"
      }
    },
    {
      "cell_type": "code",
      "source": [
        "d = a + b + c"
      ],
      "metadata": {
        "id": "m5fAqjiVQPYP"
      },
      "execution_count": null,
      "outputs": []
    },
    {
      "cell_type": "markdown",
      "source": [
        " <p  align=\"justify\"> 3. Решение задачи 3, где нужно вывести промежуточный результат. Решение задачи выполняется за стчет использования функции print(). Реализация решения задачи выполнена в пункте \"Результат выполнения работы\" </p>"
      ],
      "metadata": {
        "id": "LHfIjY45QbE3"
      }
    },
    {
      "cell_type": "markdown",
      "source": [
        "# Результат выполнения работы"
      ],
      "metadata": {
        "id": "nMlX7UTSKQlo"
      }
    },
    {
      "cell_type": "markdown",
      "source": [
        "Реализация решения **задачи 3**:"
      ],
      "metadata": {
        "id": "w_C4sLUjRtMZ"
      }
    },
    {
      "cell_type": "code",
      "source": [
        "print(\"A = \", a)\n",
        "print(\"B = \", b)\n",
        "print(\"C = \", c)"
      ],
      "metadata": {
        "colab": {
          "base_uri": "https://localhost:8080/"
        },
        "id": "SUfRnwdyR8KL",
        "outputId": "cdf05a07-e405-405d-ac20-3e05114915f7"
      },
      "execution_count": null,
      "outputs": [
        {
          "output_type": "stream",
          "name": "stdout",
          "text": [
            "A =  11\n",
            "B =  12\n",
            "C =  13\n"
          ]
        }
      ]
    },
    {
      "cell_type": "markdown",
      "source": [
        "Результат работы программы:"
      ],
      "metadata": {
        "id": "ED6JHqHzSUK0"
      }
    },
    {
      "cell_type": "code",
      "source": [
        "print(\"D = A + B + C = \",d)"
      ],
      "metadata": {
        "colab": {
          "base_uri": "https://localhost:8080/"
        },
        "id": "m3EQEe3mSaMr",
        "outputId": "6f026d27-7439-4eeb-abaf-a400c6791536"
      },
      "execution_count": null,
      "outputs": [
        {
          "output_type": "stream",
          "name": "stdout",
          "text": [
            "D = A + B + C =  36\n"
          ]
        }
      ]
    },
    {
      "cell_type": "markdown",
      "source": [
        "# Контрольное задание на защиту"
      ],
      "metadata": {
        "id": "d1HcxZsoKeNs"
      }
    }
  ]
}